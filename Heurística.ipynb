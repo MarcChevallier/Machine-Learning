{
  "nbformat": 4,
  "nbformat_minor": 0,
  "metadata": {
    "colab": {
      "name": "Heurística.ipynb",
      "version": "0.3.2",
      "provenance": [],
      "include_colab_link": true
    },
    "kernelspec": {
      "name": "python3",
      "display_name": "Python 3"
    }
  },
  "cells": [
    {
      "cell_type": "markdown",
      "metadata": {
        "id": "view-in-github",
        "colab_type": "text"
      },
      "source": [
        "[View in Colaboratory](https://colab.research.google.com/github/MarcChevallier/Machine-Learning/blob/master/Heur%C3%ADstica.ipynb)"
      ]
    },
    {
      "metadata": {
        "id": "Nk2NIK7zJYwf",
        "colab_type": "text"
      },
      "cell_type": "markdown",
      "source": [
        "<h2>Heurística para Problemas Combinatórios - 2018.2 UNIRIO</h2>\n",
        "\n",
        "---\n",
        "  <h3>Proposições de Algoritmos para o Problema de Roteamento de Veículos  </h3>\n",
        "     \n",
        "---\n",
        "  Etapas da investigação:\n",
        "      \n",
        "\n",
        "*   Elaboração de uma heurística construtiva para o problema de TSP\n",
        "*   Implementação do Djikstra para o Problema de TSP\n",
        "*   Modificação do problema para o Problema do Roteamento de Veículo (PRV)\n",
        "*   Adição de restrições no problema PRV\n",
        "<br>\n",
        "**Ferramenta utilizada**: Python (Jupyter Notebook)\n"
      ]
    },
    {
      "metadata": {
        "id": "AOJ9ML8TNWnT",
        "colab_type": "text"
      },
      "cell_type": "markdown",
      "source": [
        "### Importando Pacotes"
      ]
    },
    {
      "metadata": {
        "id": "eLvyFpRmDIhz",
        "colab_type": "code",
        "colab": {}
      },
      "cell_type": "code",
      "source": [
        "!pip install --upgrade -q gspread\n",
        "import pandas as pd #Para trabalhar com DataFrames\n",
        "import numpy as np #Para trabalhar com Arrays\n",
        "import matplotlib.pyplot as plt #Para fazer gráficos\n",
        "import gspread #Para fazer o link com uma planilha do Google Sheets"
      ],
      "execution_count": 0,
      "outputs": []
    },
    {
      "metadata": {
        "id": "_653kfq9M0Yy",
        "colab_type": "text"
      },
      "cell_type": "markdown",
      "source": [
        "### Importando Instâncias"
      ]
    },
    {
      "metadata": {
        "id": "xrHHdt5U4Urf",
        "colab_type": "code",
        "colab": {
          "base_uri": "https://localhost:8080/",
          "height": 306
        },
        "cellView": "form",
        "outputId": "7783b1c4-070d-4fa0-a365-48ca84f0f6c1"
      },
      "cell_type": "code",
      "source": [
        "#@title\n",
        "#Peço autorização do Google para Acessar os dados do Google Sheets\n",
        "from google.colab import auth\n",
        "from oauth2client.client import GoogleCredentials\n",
        "auth.authenticate_user()\n",
        "gc = gspread.authorize(GoogleCredentials.get_application_default())\n",
        "#Digo o nome da planilha que está no meu Drive que quero acessar\n",
        "worksheet = gc.open('Dados Heurística').sheet1 #primeira aba da planilha\n",
        "\n",
        "# get_all_values gives a list of rows.\n",
        "rows = worksheet.get_all_values()\n",
        "rows"
      ],
      "execution_count": 34,
      "outputs": [
        {
          "output_type": "execute_result",
          "data": {
            "text/plain": [
              "[['Depot', 'Cord x', 'Cord y', 'Demanda'],\n",
              " ['1', '30', '40', '0'],\n",
              " ['2', '37', '52', '7'],\n",
              " ['3', '49', '49', '30'],\n",
              " ['4', '52', '64', '16'],\n",
              " ['5', '20', '26', '9'],\n",
              " ['6', '40', '30', '21'],\n",
              " ['7', '21', '47', '15'],\n",
              " ['8', '17', '63', '19'],\n",
              " ['9', '31', '62', '23'],\n",
              " ['10', '52', '33', '11'],\n",
              " ['11', '51', '21', '5'],\n",
              " ['12', '42', '41', '19'],\n",
              " ['13', '31', '32', '29'],\n",
              " ['14', '5', '25', '23'],\n",
              " ['15', '12', '42', '21'],\n",
              " ['16', '36', '16', '10']]"
            ]
          },
          "metadata": {
            "tags": []
          },
          "execution_count": 34
        }
      ]
    },
    {
      "metadata": {
        "id": "u4apZ2a_QHJq",
        "colab_type": "code",
        "colab": {}
      },
      "cell_type": "code",
      "source": [
        "dados = np.array(rows[1:]).astype(int) #Tirar cabeçalho e String\n",
        "x= dados[:,1] \n",
        "y= dados[:,2]\n",
        "client = dados[:,0]-1 #client[0] é o deposito (que é igual a zero)\n",
        "n = len(client) #tamanho da instância"
      ],
      "execution_count": 0,
      "outputs": []
    },
    {
      "metadata": {
        "id": "TloScsuun3x7",
        "colab_type": "text"
      },
      "cell_type": "markdown",
      "source": [
        "**Exemplo Roteamento Aleatório**"
      ]
    },
    {
      "metadata": {
        "id": "7QJ5YWyA46GS",
        "colab_type": "code",
        "colab": {
          "base_uri": "https://localhost:8080/",
          "height": 389
        },
        "cellView": "form",
        "outputId": "4fa06955-d3d9-4fea-abf8-5a6460e512e8"
      },
      "cell_type": "code",
      "source": [
        "#@title\n",
        "fig, ax = plt.subplots(nrows=1, ncols=2, figsize=(14, 6))\n",
        "\n",
        "ax[0].scatter(x,y)\n",
        "for i in range(0,n):\n",
        "  ax[0].annotate(client[i], (x[i],y[i]))\n",
        "ax[0].set_title(\"Posição e número do Cliente\")\n",
        "\n",
        "ax[1].plot(x,y)\n",
        "for i in range(0,n):\n",
        "    ax[1].annotate(client[i], (x[i],y[i]))\n",
        "ax[1].set_title(\"Exemplo Rota Aleatória\");\n"
      ],
      "execution_count": 114,
      "outputs": [
        {
          "output_type": "display_data",
          "data": {
            "image/png": "[encoded data removed]",
            "text/plain": [
              "<matplotlib.figure.Figure at 0x7fb6bc9f2cc0>"
            ]
          },
          "metadata": {
            "tags": []
          }
        }
      ]
    },
    {
      "metadata": {
        "id": "xr2Zq1TWXSlF",
        "colab_type": "code",
        "colab": {}
      },
      "cell_type": "code",
      "source": [
        "def euclidean(x,y,i,f):\n",
        "    return ((x[i]-x[f])**2 + (y[i]-y[f])**2)**0.5"
      ],
      "execution_count": 0,
      "outputs": []
    },
    {
      "metadata": {
        "id": "mlHqd170myG3",
        "colab_type": "code",
        "colab": {
          "base_uri": "https://localhost:8080/",
          "height": 51
        },
        "outputId": "41ad851c-15ed-4038-8972-3a495d196283"
      },
      "cell_type": "code",
      "source": [
        "custo=0\n",
        "for i in range(1,n):\n",
        "  custo = custo +euclidean(x,y,i,i-1)\n",
        "print(\"Distância Percorrida:\")\n",
        "custo"
      ],
      "execution_count": 158,
      "outputs": [
        {
          "output_type": "stream",
          "text": [
            "Distância Percorrida:\n"
          ],
          "name": "stdout"
        },
        {
          "output_type": "execute_result",
          "data": {
            "text/plain": [
              "332.3422729071748"
            ]
          },
          "metadata": {
            "tags": []
          },
          "execution_count": 158
        }
      ]
    },
    {
      "metadata": {
        "id": "CcbSMbAdNxAf",
        "colab_type": "text"
      },
      "cell_type": "markdown",
      "source": [
        "### Implementação de Uma Heurística Construtiva: Neighrest Neighbour"
      ]
    },
    {
      "metadata": {
        "id": "gDJyO5bQb8af",
        "colab_type": "text"
      },
      "cell_type": "markdown",
      "source": [
        "These are the steps of the algorithm:\n",
        "\n",
        "start on an arbitrary vertex as current vertex.\n",
        "find out the shortest edge connecting current vertex and an unvisited vertex V.\n",
        "set current vertex to V.\n",
        "mark V as visited.\n",
        "if all the vertices in domain are visited, then terminate.\n",
        "Go to step 2."
      ]
    },
    {
      "metadata": {
        "id": "_xm2gHYoLgRI",
        "colab_type": "code",
        "colab": {
          "base_uri": "https://localhost:8080/",
          "height": 68
        },
        "outputId": "de502e48-a12c-4d8d-fd4f-a61096540302"
      },
      "cell_type": "code",
      "source": [
        "sol = [0]*(n)\n",
        "insol = [1]+[0]*(n-1)\n",
        "pos = 1\n",
        "cor = 0\n",
        "custo = 0\n",
        "\n",
        "for i in range(n-1):\n",
        "  dist_min = math.inf\n",
        "  for j in range(1,n):\n",
        "    if (j!=cor) and (insol[j]!=1):\n",
        "      dist= euclidean(x, y, j, cor)\n",
        "      if dist<dist_min:\n",
        "          viz = j\n",
        "          dist_min = dist\n",
        "  custo = custo + dist_min\n",
        "  cor=viz\n",
        "  sol[pos] = viz\n",
        "  insol[viz] = 1\n",
        "  pos=pos+1\n",
        "# dist = entre 0 viz  \n",
        "custo = custo + dist \n",
        "\n",
        "print(insol)\n",
        "print(sol)\n",
        "print(custo)"
      ],
      "execution_count": 159,
      "outputs": [
        {
          "output_type": "stream",
          "text": [
            "[1, 1, 1, 1, 1, 1, 1, 1, 1, 1, 1, 1, 1, 1, 1, 1]\n",
            "[0, 12, 5, 11, 2, 1, 8, 7, 6, 14, 4, 13, 15, 10, 9, 3]\n",
            "259.00207792458775\n"
          ],
          "name": "stdout"
        }
      ]
    },
    {
      "metadata": {
        "id": "GluXe2kMngs7",
        "colab_type": "text"
      },
      "cell_type": "markdown",
      "source": [
        "**Solução Aleatória teve custo de 332 e com a heurística foi para 259**"
      ]
    },
    {
      "metadata": {
        "id": "XaKsxfhPduJd",
        "colab_type": "code",
        "colab": {
          "base_uri": "https://localhost:8080/",
          "height": 423
        },
        "cellView": "form",
        "outputId": "8503b73e-4a26-4a3c-fdb9-1df8fa0fd789"
      },
      "cell_type": "code",
      "source": [
        "#@title\n",
        "sol1 = [x+1 for x in sol] +[1]\n",
        "rota = pd.merge(pd.DataFrame(sol1), pd.DataFrame(dados), on=0, how='left')\n",
        "client1 = np.array(rota[0])-1\n",
        "x1 = np.array(rota[1])\n",
        "y1 = np.array(rota[2])\n",
        "fig, ax = plt.subplots(nrows=1, ncols=2, figsize=(14, 6))\n",
        "\n",
        "ax[0].scatter(x1,y1)\n",
        "for i in range(0,n):\n",
        "  ax[0].annotate(client1[i], (x1[i],y1[i]))\n",
        "ax[0].set_title(\"Posição e número do Cliente\")\n",
        "\n",
        "ax[1].plot(x1,y1)\n",
        "for i in range(0,n):\n",
        "    ax[1].annotate(client1[i], (x1[i],y1[i]))\n",
        "ax[1].set_title(\"Exemplo Rota Aleatória\");\n",
        "\n",
        "print(\"Custo com Volta ao Depósito:\")\n",
        "print(custo+euclidean(x1,x1,0,j))"
      ],
      "execution_count": 146,
      "outputs": [
        {
          "output_type": "stream",
          "text": [
            "Custo com Volta ao Depósito:\n",
            "290.11477629679587\n"
          ],
          "name": "stdout"
        },
        {
          "output_type": "display_data",
          "data": {
            "image/png": "[encoded data removed]",
            "text/plain": [
              "<matplotlib.figure.Figure at 0x7fb6bc96a6a0>"
            ]
          },
          "metadata": {
            "tags": []
          }
        }
      ]
    },
    {
      "metadata": {
        "id": "zlUkpMx0jZx1",
        "colab_type": "text"
      },
      "cell_type": "markdown",
      "source": [
        "**Resultado Esperado Atingido**"
      ]
    },
    {
      "metadata": {
        "id": "TmuM7Y2pUrDQ",
        "colab_type": "code",
        "colab": {
          "base_uri": "https://localhost:8080/",
          "height": 364
        },
        "outputId": "0a9bcffa-c74e-4d80-85b9-36f4d235bbf6"
      },
      "cell_type": "code",
      "source": [
        "data = pd.DataFrame(sol)\n",
        "data.columns = ['ver']\n",
        "data = pd.merge(data,df, on='ver', how='left')\n",
        "data = data.apply(pd.to_numeric, errors='coerce')\n",
        "fig, ax = plt.subplots()\n",
        "ax.plot(data['Cx'],data['Cy'])\n",
        "#for i in range(1,n+1):\n",
        " # ax.annotate(data['ver'][i], (data['Cx'][i],data['Cy'][i]))"
      ],
      "execution_count": 221,
      "outputs": [
        {
          "output_type": "execute_result",
          "data": {
            "text/plain": [
              "[<matplotlib.lines.Line2D at 0x7f969d6806d8>]"
            ]
          },
          "metadata": {
            "tags": []
          },
          "execution_count": 221
        },
        {
          "output_type": "display_data",
          "data": {
            "image/png": "[encoded data removed]",
            "text/plain": [
              "<matplotlib.figure.Figure at 0x7f969d7d1a58>"
            ]
          },
          "metadata": {
            "tags": []
          }
        }
      ]
    },
    {
      "metadata": {
        "id": "NTzVbBpITC70",
        "colab_type": "code",
        "colab": {
          "base_uri": "https://localhost:8080/",
          "height": 68
        },
        "outputId": "a8c3150c-b426-4fbb-baf7-ae5889c04761"
      },
      "cell_type": "code",
      "source": [
        "for i in range(1,4):\n",
        "  print(i)"
      ],
      "execution_count": 71,
      "outputs": [
        {
          "output_type": "stream",
          "text": [
            "1\n",
            "2\n",
            "3\n"
          ],
          "name": "stdout"
        }
      ]
    },
    {
      "metadata": {
        "id": "nDLjQmaN5QYp",
        "colab_type": "code",
        "colab": {
          "base_uri": "https://localhost:8080/",
          "height": 129
        },
        "outputId": "f15d0135-d828-4e10-ba30-ca8eb6b65bef"
      },
      "cell_type": "code",
      "source": [
        "from math import sqrt\n",
        "n = len(df.iloc[:,0])\n",
        "\n",
        "insol = [1,0,0,0]\n",
        "sol = [0,0,0,0]\n",
        "pos = 1\n",
        "cor = 0\n",
        "custo = 0\n",
        "for i in range(n-1):\n",
        "  dist_min = 999999999999\n",
        "  for j in range(1,n):\n",
        "    if (j != cor) and (insol[j] != 1):\n",
        "      dist = df['Cord x'][j]-df['Cord x'][cor])^2 + (df['Cord y'][j]-df['Cord y'][cor])^2)^(-1)\n",
        "      if dis<dist_min:\n",
        "        viz = j\n",
        "        dist_min = dist\n",
        "  custo = custo + distmin\n",
        "  cor=viz\n",
        "  sol[pos] = viz\n",
        "  insol[viz] = 1\n",
        "  pos=pos+1\n",
        "# dist = entre 0 viz  \n",
        "custo = custo + dist \n",
        "print(insol)\n",
        "print(sol)\n",
        "  "
      ],
      "execution_count": 126,
      "outputs": [
        {
          "output_type": "error",
          "ename": "SyntaxError",
          "evalue": "ignored",
          "traceback": [
            "\u001b[0;36m  File \u001b[0;32m\"<ipython-input-126-8b4395cf430e>\"\u001b[0;36m, line \u001b[0;32m13\u001b[0m\n\u001b[0;31m    dist = df['Cord x'][j]-df['Cord x'][cor])^2 + (df['Cord y'][j]-df['Cord y'][cor])^2)^(-1)\u001b[0m\n\u001b[0m                                            ^\u001b[0m\n\u001b[0;31mSyntaxError\u001b[0m\u001b[0;31m:\u001b[0m invalid syntax\n"
          ]
        }
      ]
    },
    {
      "metadata": {
        "id": "6PC1zLOJ7U6t",
        "colab_type": "code",
        "colab": {
          "base_uri": "https://localhost:8080/",
          "height": 163
        },
        "outputId": "93057627-035c-4200-f3d0-7fc1054d27fc"
      },
      "cell_type": "code",
      "source": [
        "fruits = [\"apple\", \"banana\", \"cherry\"]\n",
        "for i in range(n):\n",
        "  print()"
      ],
      "execution_count": 42,
      "outputs": [
        {
          "output_type": "error",
          "ename": "NameError",
          "evalue": "ignored",
          "traceback": [
            "\u001b[0;31m---------------------------------------------------------------------------\u001b[0m",
            "\u001b[0;31mNameError\u001b[0m                                 Traceback (most recent call last)",
            "\u001b[0;32m<ipython-input-42-2c5a2c531ea0>\u001b[0m in \u001b[0;36m<module>\u001b[0;34m()\u001b[0m\n\u001b[0;32m----> 1\u001b[0;31m \u001b[0msys\u001b[0m\u001b[0;34m.\u001b[0m\u001b[0mmaxsize\u001b[0m\u001b[0;34m\u001b[0m\u001b[0m\n\u001b[0m",
            "\u001b[0;31mNameError\u001b[0m: name 'sys' is not defined"
          ]
        }
      ]
    },
    {
      "metadata": {
        "id": "1hyeECKTOciW",
        "colab_type": "code",
        "colab": {
          "base_uri": "https://localhost:8080/",
          "height": 176
        },
        "outputId": "b359e0f2-be8a-467e-db26-a63f24777878"
      },
      "cell_type": "code",
      "source": [
        "from math import sqrt\n",
        "\n",
        "cords = {}\n",
        "cords['Boston'] = (5, 2)\n",
        "cords['Phoenix'] = (7, 3)\n",
        "cords['New York'] = (8, 1)\n",
        "\n",
        "def dist(a, b):\n",
        "    d = [a[0] - b[0], a[1] - b[1]]\n",
        "    return sqrt(d[0] * d[0] + d[1] * d[1]) \n",
        "\n",
        "D = {}\n",
        "\n",
        "for city1, cords1 in cords.items():\n",
        "    D[city1] = {}\n",
        "    for city2, cords2 in cords.items():\n",
        "        D[city1][city2] = dist(cords1, cords2)   \n",
        "\n",
        "for city1, v in D.items():\n",
        "    for city2, d in v.items():\n",
        "        print (city1, city2, d)"
      ],
      "execution_count": 52,
      "outputs": [
        {
          "output_type": "stream",
          "text": [
            "Boston Boston 0.0\n",
            "Boston Phoenix 2.23606797749979\n",
            "Boston New York 3.1622776601683795\n",
            "Phoenix Boston 2.23606797749979\n",
            "Phoenix Phoenix 0.0\n",
            "Phoenix New York 2.23606797749979\n",
            "New York Boston 3.1622776601683795\n",
            "New York Phoenix 2.23606797749979\n",
            "New York New York 0.0\n"
          ],
          "name": "stdout"
        }
      ]
    },
    {
      "metadata": {
        "id": "CZK1CCOL51wE",
        "colab_type": "code",
        "colab": {
          "base_uri": "https://localhost:8080/",
          "height": 34
        },
        "outputId": "3e8dbc72-a2ff-402a-bbd4-5e7c3fcf1de0"
      },
      "cell_type": "code",
      "source": [
        "cords"
      ],
      "execution_count": 50,
      "outputs": [
        {
          "output_type": "execute_result",
          "data": {
            "text/plain": [
              "{'Boston': (5, 2), 'New York': (8, 1), 'Phoenix': (7, 3)}"
            ]
          },
          "metadata": {
            "tags": []
          },
          "execution_count": 50
        }
      ]
    },
    {
      "metadata": {
        "id": "FPphKsDVOWe7",
        "colab_type": "code",
        "colab": {
          "base_uri": "https://localhost:8080/",
          "height": 318
        },
        "outputId": "5747e86c-3b6c-4439-d74e-9cdf6d0f9833"
      },
      "cell_type": "code",
      "source": [
        "\"\"\"Vehicle Routing Problem\"\"\"\n",
        "from __future__ import print_function\n",
        "from six.moves import xrange\n",
        "from ortools.constraint_solver import pywrapcp\n",
        "from ortools.constraint_solver import routing_enums_pb2\n",
        "\n",
        "###########################\n",
        "# Problem Data Definition #\n",
        "###########################\n",
        "class CityBlock():\n",
        "    \"\"\"City block definition\"\"\"\n",
        "    @property\n",
        "    def width(self):\n",
        "        \"\"\"Gets Block size West to East\"\"\"\n",
        "        return 228/2\n",
        "\n",
        "    @property\n",
        "    def height(self):\n",
        "        \"\"\"Gets Block size North to South\"\"\"\n",
        "        return 80\n",
        "\n",
        "class DataProblem():\n",
        "    \"\"\"Stores the data for the problem\"\"\"\n",
        "    def __init__(self):\n",
        "        \"\"\"Initializes the data for the problem\"\"\"\n",
        "        self._num_vehicles = 4\n",
        "\n",
        "        # Locations in block unit\n",
        "        locations = \\\n",
        "                [(4, 4), # depot\n",
        "                 (2, 0), (8, 0), # row 0\n",
        "                 (0, 1), (1, 1),\n",
        "                 (5, 2), (7, 2),\n",
        "                 (3, 3), (6, 3),\n",
        "                 (5, 5), (8, 5),\n",
        "                 (1, 6), (2, 6),\n",
        "                 (3, 7), (6, 7),\n",
        "                 (0, 8), (7, 8)]\n",
        "        # locations in meters using the city block dimension\n",
        "        city_block = CityBlock()\n",
        "        self._locations = [(\n",
        "            loc[0]*city_block.width,\n",
        "            loc[1]*city_block.height) for loc in locations]\n",
        "\n",
        "        self._depot = 0\n",
        "\n",
        "    @property\n",
        "    def num_vehicles(self):\n",
        "        \"\"\"Gets number of vehicles\"\"\"\n",
        "        return self._num_vehicles\n",
        "\n",
        "    @property\n",
        "    def locations(self):\n",
        "        \"\"\"Gets locations\"\"\"\n",
        "        return self._locations\n",
        "\n",
        "    @property\n",
        "    def num_locations(self):\n",
        "        \"\"\"Gets number of locations\"\"\"\n",
        "        return len(self.locations)\n",
        "\n",
        "    @property\n",
        "    def depot(self):\n",
        "        \"\"\"Gets depot location index\"\"\"\n",
        "        return self._depot\n",
        "\n",
        "#######################\n",
        "# Problem Constraints #\n",
        "#######################\n",
        "def manhattan_distance(position_1, position_2):\n",
        "    \"\"\"Computes the Manhattan distance between two points\"\"\"\n",
        "    return (abs(position_1[0] - position_2[0]) +\n",
        "            abs(position_1[1] - position_2[1]))\n",
        "\n",
        "class CreateDistanceEvaluator(object): # pylint: disable=too-few-public-methods\n",
        "    \"\"\"Creates callback to return distance between points.\"\"\"\n",
        "    def __init__(self, data):\n",
        "        \"\"\"Initializes the distance matrix.\"\"\"\n",
        "        self._distances = {}\n",
        "\n",
        "        # precompute distance between location to have distance callback in O(1)\n",
        "        for from_node in xrange(data.num_locations):\n",
        "            self._distances[from_node] = {}\n",
        "            for to_node in xrange(data.num_locations):\n",
        "                if from_node == to_node:\n",
        "                    self._distances[from_node][to_node] = 0\n",
        "                else:\n",
        "                    self._distances[from_node][to_node] = (\n",
        "                        manhattan_distance(\n",
        "                            data.locations[from_node],\n",
        "                            data.locations[to_node]))\n",
        "\n",
        "    def distance_evaluator(self, from_node, to_node):\n",
        "        \"\"\"Returns the manhattan distance between the two nodes\"\"\"\n",
        "        return self._distances[from_node][to_node]\n",
        "\n",
        "def add_distance_dimension(routing, distance_evaluator):\n",
        "    \"\"\"Add Global Span constraint\"\"\"\n",
        "    distance = \"Distance\"\n",
        "    maximum_distance = 3000\n",
        "    routing.AddDimension(\n",
        "        distance_evaluator,\n",
        "        0, # null slack\n",
        "        maximum_distance, # maximum distance per vehicle\n",
        "        True, # start cumul to zero\n",
        "        distance)\n",
        "    distance_dimension = routing.GetDimensionOrDie(distance)\n",
        "    # Try to minimize the max distance among vehicles.\n",
        "    # /!\\ It doesn't mean the standard deviation is minimized\n",
        "    distance_dimension.SetGlobalSpanCostCoefficient(100)\n",
        "\n",
        "###########\n",
        "# Printer #\n",
        "###########\n",
        "class ConsolePrinter():\n",
        "    \"\"\"Print solution to console\"\"\"\n",
        "    def __init__(self, data, routing, assignment):\n",
        "        \"\"\"Initializes the printer\"\"\"\n",
        "        self._data = data\n",
        "        self._routing = routing\n",
        "        self._assignment = assignment\n",
        "\n",
        "    @property\n",
        "    def data(self):\n",
        "        \"\"\"Gets problem data\"\"\"\n",
        "        return self._data\n",
        "\n",
        "    @property\n",
        "    def routing(self):\n",
        "        \"\"\"Gets routing model\"\"\"\n",
        "        return self._routing\n",
        "\n",
        "    @property\n",
        "    def assignment(self):\n",
        "        \"\"\"Gets routing model\"\"\"\n",
        "        return self._assignment\n",
        "\n",
        "    def print(self):\n",
        "        \"\"\"Prints assignment on console\"\"\"\n",
        "        # Inspect solution.\n",
        "        total_dist = 0\n",
        "        for vehicle_id in xrange(self.data.num_vehicles):\n",
        "            index = self.routing.Start(vehicle_id)\n",
        "            plan_output = 'Route for vehicle {0}:\\n'.format(vehicle_id)\n",
        "            route_dist = 0\n",
        "            while not self.routing.IsEnd(index):\n",
        "                node_index = self.routing.IndexToNode(index)\n",
        "                next_node_index = self.routing.IndexToNode(\n",
        "                    self.assignment.Value(self.routing.NextVar(index)))\n",
        "                route_dist += manhattan_distance(\n",
        "                    self.data.locations[node_index],\n",
        "                    self.data.locations[next_node_index])\n",
        "                plan_output += ' {node_index} -> '.format(\n",
        "                    node_index=node_index)\n",
        "                index = self.assignment.Value(self.routing.NextVar(index))\n",
        "\n",
        "            node_index = self.routing.IndexToNode(index)\n",
        "            total_dist += route_dist\n",
        "            plan_output += ' {node_index}\\n'.format(\n",
        "                node_index=node_index)\n",
        "            plan_output += 'Distance of the route {0}: {dist}\\n'.format(\n",
        "                vehicle_id,\n",
        "                dist=route_dist)\n",
        "            print(plan_output)\n",
        "        print('Total Distance of all routes: {dist}'.format(dist=total_dist))\n",
        "\n",
        "########\n",
        "# Main #\n",
        "########\n",
        "def main():\n",
        "    \"\"\"Entry point of the program\"\"\"\n",
        "    # Instantiate the data problem.\n",
        "    data = DataProblem()\n",
        "\n",
        "    # Create Routing Model\n",
        "    routing = pywrapcp.RoutingModel(data.num_locations, data.num_vehicles, data.depot)\n",
        "    # Define weight of each edge\n",
        "    distance_evaluator = CreateDistanceEvaluator(data).distance_evaluator\n",
        "    routing.SetArcCostEvaluatorOfAllVehicles(distance_evaluator)\n",
        "    add_distance_dimension(routing, distance_evaluator)\n",
        "\n",
        "    # Setting first solution heuristic (cheapest addition).\n",
        "    search_parameters = pywrapcp.RoutingModel.DefaultSearchParameters()\n",
        "    search_parameters.first_solution_strategy = (\n",
        "        routing_enums_pb2.FirstSolutionStrategy.PATH_CHEAPEST_ARC)\n",
        "    # Solve the problem.\n",
        "    assignment = routing.SolveWithParameters(search_parameters)\n",
        "    printer = ConsolePrinter(data, routing, assignment)\n",
        "    printer.print()\n",
        "\n",
        "if __name__ == '__main__':\n",
        "  main()"
      ],
      "execution_count": 13,
      "outputs": [
        {
          "output_type": "stream",
          "text": [
            "Route for vehicle 0:\n",
            " 0 ->  8 ->  6 ->  2 ->  5 ->  0\n",
            "Distance of the route 0: 1552.0\n",
            "\n",
            "Route for vehicle 1:\n",
            " 0 ->  7 ->  1 ->  4 ->  3 ->  0\n",
            "Distance of the route 1: 1552.0\n",
            "\n",
            "Route for vehicle 2:\n",
            " 0 ->  9 ->  10 ->  16 ->  14 ->  0\n",
            "Distance of the route 2: 1552.0\n",
            "\n",
            "Route for vehicle 3:\n",
            " 0 ->  12 ->  11 ->  15 ->  13 ->  0\n",
            "Distance of the route 3: 1552.0\n",
            "\n",
            "Total Distance of all routes: 6208.0\n"
          ],
          "name": "stdout"
        }
      ]
    },
    {
      "metadata": {
        "id": "UPyKj2dGPOPi",
        "colab_type": "code",
        "colab": {}
      },
      "cell_type": "code",
      "source": [
        "\"\"\"Capacitated Vehicle Routing Problem\"\"\"\n",
        "from __future__ import print_function\n",
        "from six.moves import xrange\n",
        "from ortools.constraint_solver import pywrapcp\n",
        "from ortools.constraint_solver import routing_enums_pb2\n",
        "\n",
        "###########################\n",
        "# Problem Data Definition #\n",
        "###########################\n",
        "class Vehicle():\n",
        "    \"\"\"Stores the property of a vehicle\"\"\"\n",
        "    def __init__(self):\n",
        "        \"\"\"Initializes the vehicle properties\"\"\"\n",
        "        self._capacity = 15\n",
        "\n",
        "    @property\n",
        "    def capacity(self):\n",
        "        \"\"\"Gets vehicle capacity\"\"\"\n",
        "        return self._capacity\n",
        "\n",
        "class CityBlock():\n",
        "    \"\"\"City block definition\"\"\"\n",
        "    @property\n",
        "    def width(self):\n",
        "        \"\"\"Gets Block size West to East\"\"\"\n",
        "        return 228/2\n",
        "\n",
        "    @property\n",
        "    def height(self):\n",
        "        \"\"\"Gets Block size North to South\"\"\"\n",
        "        return 80\n",
        "\n",
        "class DataProblem():\n",
        "    \"\"\"Stores the data for the problem\"\"\"\n",
        "    def __init__(self):\n",
        "        \"\"\"Initializes the data for the problem\"\"\"\n",
        "        self._vehicle = Vehicle()\n",
        "        self._num_vehicles = 4\n",
        "\n",
        "        # Locations in block unit\n",
        "        locations = \\\n",
        "                [(4, 4), # depot\n",
        "                 (2, 0), (8, 0), # row 0\n",
        "                 (0, 1), (1, 1),\n",
        "                 (5, 2), (7, 2),\n",
        "                 (3, 3), (6, 3),\n",
        "                 (5, 5), (8, 5),\n",
        "                 (1, 6), (2, 6),\n",
        "                 (3, 7), (6, 7),\n",
        "                 (0, 8), (7, 8)]\n",
        "        # locations in meters using the city block dimension\n",
        "        city_block = CityBlock()\n",
        "        self._locations = [(\n",
        "            loc[0]*city_block.width,\n",
        "            loc[1]*city_block.height) for loc in locations]\n",
        "\n",
        "        self._depot = 0\n",
        "\n",
        "        self._demands = \\\n",
        "            [0, # depot\n",
        "             1, 1, # row 0\n",
        "             2, 4,\n",
        "             2, 4,\n",
        "             8, 8,\n",
        "             1, 2,\n",
        "             1, 2,\n",
        "             4, 4,\n",
        "             8, 8]\n",
        "\n",
        "    @property\n",
        "    def vehicle(self):\n",
        "        \"\"\"Gets a vehicle\"\"\"\n",
        "        return self._vehicle\n",
        "\n",
        "    @property\n",
        "    def num_vehicles(self):\n",
        "        \"\"\"Gets number of vehicles\"\"\"\n",
        "        return self._num_vehicles\n",
        "\n",
        "    @property\n",
        "    def locations(self):\n",
        "        \"\"\"Gets locations\"\"\"\n",
        "        return self._locations\n",
        "\n",
        "    @property\n",
        "    def num_locations(self):\n",
        "        \"\"\"Gets number of locations\"\"\"\n",
        "        return len(self.locations)\n",
        "\n",
        "    @property\n",
        "    def depot(self):\n",
        "        \"\"\"Gets depot location index\"\"\"\n",
        "        return self._depot\n",
        "\n",
        "    @property\n",
        "    def demands(self):\n",
        "        \"\"\"Gets demands at each location\"\"\"\n",
        "        return self._demands\n",
        "\n",
        "#######################\n",
        "# Problem Constraints #\n",
        "#######################\n",
        "def manhattan_distance(position_1, position_2):\n",
        "    \"\"\"Computes the Manhattan distance between two points\"\"\"\n",
        "    return (abs(position_1[0] - position_2[0]) +\n",
        "            abs(position_1[1] - position_2[1]))\n",
        "\n",
        "class CreateDistanceEvaluator(object): # pylint: disable=too-few-public-methods\n",
        "    \"\"\"Creates callback to return distance between points.\"\"\"\n",
        "    def __init__(self, data):\n",
        "        \"\"\"Initializes the distance matrix.\"\"\"\n",
        "        self._distances = {}\n",
        "\n",
        "        # precompute distance between location to have distance callback in O(1)\n",
        "        for from_node in xrange(data.num_locations):\n",
        "            self._distances[from_node] = {}\n",
        "            for to_node in xrange(data.num_locations):\n",
        "                if from_node == to_node:\n",
        "                    self._distances[from_node][to_node] = 0\n",
        "                else:\n",
        "                    self._distances[from_node][to_node] = (\n",
        "                        manhattan_distance(\n",
        "                            data.locations[from_node],\n",
        "                            data.locations[to_node]))\n",
        "\n",
        "    def distance_evaluator(self, from_node, to_node):\n",
        "        \"\"\"Returns the manhattan distance between the two nodes\"\"\"\n",
        "        return self._distances[from_node][to_node]\n",
        "\n",
        "class CreateDemandEvaluator(object): # pylint: disable=too-few-public-methods\n",
        "    \"\"\"Creates callback to get demands at each location.\"\"\"\n",
        "    def __init__(self, data):\n",
        "        \"\"\"Initializes the demand array.\"\"\"\n",
        "        self._demands = data.demands\n",
        "\n",
        "    def demand_evaluator(self, from_node, to_node):\n",
        "        \"\"\"Returns the demand of the current node\"\"\"\n",
        "        del to_node\n",
        "        return self._demands[from_node]\n",
        "\n",
        "def add_capacity_constraints(routing, data, demand_evaluator):\n",
        "    \"\"\"Adds capacity constraint\"\"\"\n",
        "    capacity = \"Capacity\"\n",
        "    routing.AddDimension(\n",
        "        demand_evaluator,\n",
        "        0, # null capacity slack\n",
        "        data.vehicle.capacity, # vehicle maximum capacity\n",
        "        True, # start cumul to zero\n",
        "        capacity)\n",
        "\n",
        "###########\n",
        "# Printer #\n",
        "###########\n",
        "class ConsolePrinter():\n",
        "    \"\"\"Print solution to console\"\"\"\n",
        "    def __init__(self, data, routing, assignment):\n",
        "        \"\"\"Initializes the printer\"\"\"\n",
        "        self._data = data\n",
        "        self._routing = routing\n",
        "        self._assignment = assignment\n",
        "\n",
        "    @property\n",
        "    def data(self):\n",
        "        \"\"\"Gets problem data\"\"\"\n",
        "        return self._data\n",
        "\n",
        "    @property\n",
        "    def routing(self):\n",
        "        \"\"\"Gets routing model\"\"\"\n",
        "        return self._routing\n",
        "\n",
        "    @property\n",
        "    def assignment(self):\n",
        "        \"\"\"Gets routing model\"\"\"\n",
        "        return self._assignment\n",
        "\n",
        "    def print(self):\n",
        "        \"\"\"Prints assignment on console\"\"\"\n",
        "        # Inspect solution.\n",
        "        total_dist = 0\n",
        "        for vehicle_id in xrange(self.data.num_vehicles):\n",
        "            index = self.routing.Start(vehicle_id)\n",
        "            plan_output = 'Route for vehicle {0}:\\n'.format(vehicle_id)\n",
        "            route_dist = 0\n",
        "            route_load = 0\n",
        "            while not self.routing.IsEnd(index):\n",
        "                node_index = self.routing.IndexToNode(index)\n",
        "                next_node_index = self.routing.IndexToNode(\n",
        "                    self.assignment.Value(self.routing.NextVar(index)))\n",
        "                route_dist += manhattan_distance(\n",
        "                    self.data.locations[node_index],\n",
        "                    self.data.locations[next_node_index])\n",
        "                route_load += self.data.demands[node_index]\n",
        "                plan_output += ' {0} Load({1}) -> '.format(node_index, route_load)\n",
        "                index = self.assignment.Value(self.routing.NextVar(index))\n",
        "\n",
        "            node_index = self.routing.IndexToNode(index)\n",
        "            total_dist += route_dist\n",
        "            plan_output += ' {0} Load({1})\\n'.format(node_index, route_load)\n",
        "            plan_output += 'Distance of the route: {0}m\\n'.format(route_dist)\n",
        "            plan_output += 'Load of the route: {0}\\n'.format(route_load)\n",
        "            print(plan_output)\n",
        "        print('Total Distance of all routes: {0}m'.format(total_dist))\n",
        "\n",
        "########\n",
        "# Main #\n",
        "########\n",
        "def main():\n",
        "    \"\"\"Entry point of the program\"\"\"\n",
        "    # Instantiate the data problem.\n",
        "    data = DataProblem()\n",
        "\n",
        "    # Create Routing Model\n",
        "    routing = pywrapcp.RoutingModel(data.num_locations, data.num_vehicles, data.depot)\n",
        "    # Define weight of each edge\n",
        "    distance_evaluator = CreateDistanceEvaluator(data).distance_evaluator\n",
        "    routing.SetArcCostEvaluatorOfAllVehicles(distance_evaluator)\n",
        "    # Add Capacity constraint\n",
        "    demand_evaluator = CreateDemandEvaluator(data).demand_evaluator\n",
        "    add_capacity_constraints(routing, data, demand_evaluator)\n",
        "\n",
        "    # Setting first solution heuristic (cheapest addition).\n",
        "    search_parameters = pywrapcp.RoutingModel.DefaultSearchParameters()\n",
        "    search_parameters.first_solution_strategy = (\n",
        "        routing_enums_pb2.FirstSolutionStrategy.PATH_CHEAPEST_ARC)\n",
        "    # Solve the problem.\n",
        "    assignment = routing.SolveWithParameters(search_parameters)\n",
        "    printer = ConsolePrinter(data, routing, assignment)\n",
        "    printer.print()\n",
        "\n",
        "if __name__ == '__main__':\n",
        "  main()"
      ],
      "execution_count": 0,
      "outputs": []
    },
    {
      "metadata": {
        "id": "rqENKBGcQDE8",
        "colab_type": "code",
        "colab": {}
      },
      "cell_type": "code",
      "source": [
        "https://www.youtube.com/watch?v=enCBp2lBn64\n",
        "https://developers.google.com/optimization/routing/cvrp\n",
        "  "
      ],
      "execution_count": 0,
      "outputs": []
    }
  ]
}